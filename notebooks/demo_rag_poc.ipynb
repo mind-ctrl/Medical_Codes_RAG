{
 "cells": [
  {
   "cell_type": "markdown",
   "id": "ee4c906d",
   "metadata": {},
   "source": [
    "# Medical RAG System Demo\n",
    "\n",
    "This notebook demonstrates the complete medical RAG pipeline for ICD-10-CM and CPT code lookup.\n",
    "\n",
    "## Features:\n",
    "- UMLS synonym expansion\n",
    "- Hybrid retrieval (Semantic + BM25)  \n",
    "- Cross-encoder reranking\n",
    "- Medical specialty clustering\n",
    "- Hallucination detection\n"
   ]
  },
  {
   "cell_type": "code",
   "execution_count": null,
   "id": "e68cf6f4",
   "metadata": {
    "vscode": {
     "languageId": "plaintext"
    }
   },
   "outputs": [],
   "source": [
    "import sys\n",
    "from pathlib import Path\n",
    "sys.path.append('../src')\n",
    "\n",
    "from data_loader import MedicalDataLoader\n",
    "from retrieval import HybridRetriever  \n",
    "from generation import MedicalResponseGenerator\n",
    "from eval import MedicalRAGEvaluator\n",
    "\n",
    "import structlog\n",
    "structlog.configure(\n",
    "    processors=[structlog.dev.ConsoleRenderer()],\n",
    "    logger_factory=structlog.PrintLoggerFactory(),\n",
    "    cache_logger_on_first_use=True,\n",
    ")\n",
    "\n",
    "print(\"Medical RAG System - Demo Ready!\")\n"
   ]
  },
  {
   "cell_type": "markdown",
   "id": "3f098598",
   "metadata": {},
   "source": [
    "Data Loading    "
   ]
  },
  {
   "cell_type": "code",
   "execution_count": null,
   "id": "5908d00d",
   "metadata": {
    "vscode": {
     "languageId": "plaintext"
    }
   },
   "outputs": [],
   "source": [
    "# Initialize data loader\n",
    "loader = MedicalDataLoader()\n",
    "\n",
    "# Load sample medical codes\n",
    "print(\"Loading ICD-10-CM codes...\")\n",
    "icd_codes = loader.parse_icd10_codes(Path(\"../data/sample.xml\"))\n",
    "\n",
    "print(\"Loading CPT codes...\")  \n",
    "cpt_codes = loader.parse_cpt_codes(Path(\"../data/sample.xlsx\"))\n",
    "\n",
    "# Combine and create chunks\n",
    "all_codes = icd_codes + cpt_codes\n",
    "chunks = loader.create_chunks_with_metadata(all_codes)\n",
    "\n",
    "print(f\"✅ Loaded {len(all_codes)} medical codes\")\n",
    "print(f\"Sample chunk: {chunks[0]}\")\n"
   ]
  },
  {
   "cell_type": "markdown",
   "id": "84705b07",
   "metadata": {},
   "source": [
    "Initialize Retrieval System"
   ]
  },
  {
   "cell_type": "code",
   "execution_count": null,
   "id": "6c302a51",
   "metadata": {
    "vscode": {
     "languageId": "plaintext"
    }
   },
   "outputs": [],
   "source": [
    "# Initialize hybrid retriever\n",
    "retriever = HybridRetriever()\n",
    "retriever.initialize_vectorstore(chunks)\n",
    "\n",
    "print(\"✅ Retrieval system initialized with hybrid search capabilities\")\n",
    "print(\"Features enabled:\")\n",
    "print(\"- UMLS synonym expansion\")  \n",
    "print(\"- Multi-query generation\")\n",
    "print(\"- Semantic + BM25 fusion\") \n",
    "print(\"- Cross-encoder reranking\")\n",
    "print(\"- Medical specialty clustering\")\n"
   ]
  },
  {
   "cell_type": "code",
   "execution_count": null,
   "id": "375fcd2a",
   "metadata": {
    "vscode": {
     "languageId": "plaintext"
    }
   },
   "outputs": [],
   "source": [
    "Test Retrieval"
   ]
  },
  {
   "cell_type": "code",
   "execution_count": null,
   "id": "f2a3a7e3",
   "metadata": {
    "vscode": {
     "languageId": "plaintext"
    }
   },
   "outputs": [],
   "source": [
    "# Test queries\n",
    "test_queries = [\n",
    "    \"patient with acute chest pain and dyspnea\",\n",
    "    \"routine office visit for diabetes management\",\n",
    "    \"migraine headache treatment\"\n",
    "]\n",
    "\n",
    "for query in test_queries:\n",
    "    print(f\"\\n🔍 Query: {query}\")\n",
    "    print(\"-\" * 50)\n",
    "    \n",
    "    results = retriever.retrieve(query)\n",
    "    \n",
    "    for i, doc in enumerate(results):\n",
    "        code = doc.metadata.get('code', 'N/A')\n",
    "        desc = doc.metadata.get('description', doc.page_content)\n",
    "        specialty = doc.metadata.get('specialty', 'general')\n",
    "        \n",
    "        print(f\"{i+1}. [{code}] {desc}\")\n",
    "        print(f\"   Specialty: {specialty}\")\n"
   ]
  },
  {
   "cell_type": "code",
   "execution_count": null,
   "id": "aabffb6c",
   "metadata": {
    "vscode": {
     "languageId": "plaintext"
    }
   },
   "outputs": [],
   "source": [
    "# Initialize generator\n",
    "generator = MedicalResponseGenerator()\n",
    "\n",
    "query = \"patient with acute chest pain and dyspnea\"\n",
    "retrieved_docs = retriever.retrieve(query)\n",
    "\n",
    "print(f\"Query: {query}\\n\")\n",
    "\n",
    "# Generate response\n",
    "result = generator.generate_response(query, retrieved_docs)\n",
    "\n",
    "print(\"Generated Response:\")\n",
    "print(\"=\" * 60)\n",
    "print(result['response'])\n",
    "print(\"\\n\" + \"=\" * 60)\n",
    "\n",
    "print(f\"\\nExtracted Codes: {result['codes']}\")\n",
    "print(f\"Confidence: {result['confidence']}\")\n",
    "print(f\"Hallucination Score: {result['hallucination_score']:.3f}\")\n",
    "print(f\"Is Reliable: {result['is_reliable']}\")\n"
   ]
  }
 ],
 "metadata": {
  "language_info": {
   "name": "python"
  }
 },
 "nbformat": 4,
 "nbformat_minor": 5
}
